{
 "cells": [
  {
   "cell_type": "code",
   "execution_count": 1,
   "source": [
    "import numpy as np\n",
    "import cv2"
   ],
   "outputs": [],
   "metadata": {}
  },
  {
   "cell_type": "code",
   "execution_count": 3,
   "source": [
    "from scipy.spatial.transform import Rotation as R\n",
    "posc = []\n",
    "# data = np.load('../result/230422/0522test11.npz')\n",
    "data = np.load('../result/230422/0424test4.npz')\n",
    "\n",
    "OF = data['OF'] \n",
    "OF[:,:,:,0] = OF[:,:,:,0]*128 #光流大小*解析度\n",
    "\n",
    "IMG = data['IMG']\n",
    "POS = data['POS']\n",
    "ORI = data['ORI']\n",
    "\n",
    "\n",
    "#從旋轉矩陣和世界座標系位移，得到相機座標系的位移\n",
    "for i in range(1,IMG.shape[0]):\n",
    "    r = R.from_quat(ORI[i,:]).as_matrix()\n",
    "    d_x = POS[i,0] - POS[i-1,0]\n",
    "    d_z = POS[i,2] - POS[i-1,2]\n",
    "    d_y = POS[i,1] - POS[i-1,1]\n",
    "    d = [d_z, d_x, d_y]\n",
    "    camera = np.matmul(r, d)\n",
    "    posc.append(camera)"
   ],
   "outputs": [
    {
     "output_type": "stream",
     "name": "stdout",
     "text": [
      "<class 'numpy.float32'>\n",
      "[[ 9.94521920e-01  1.04528224e-01  1.10827851e-06]\n",
      " [ 3.43994169e-09 -1.06354012e-05  1.00000000e+00]\n",
      " [ 1.04528224e-01 -9.94521920e-01 -1.05774992e-05]]\n"
     ]
    }
   ],
   "metadata": {}
  },
  {
   "cell_type": "code",
   "execution_count": 4,
   "source": [
    "#save image of raw image, optical flow map, and depth map if need.\n",
    "frame = 0\n",
    "import flowpy\n",
    "while frame < OF.shape[0]:\n",
    "\n",
    "    cv2.imwrite('/Users/hsinyu/Desktop/airsim2/raw{}.png'.format(frame), IMG[frame,:,:,:])\n",
    "\n",
    "    #從r, theta轉成x,y 並用flowpy視覺化\n",
    "    flow = np.stack((OF[frame,:,:,0]*np.cos(OF[frame,:,:,1]), OF[frame,:,:,0]*np.sin(OF[frame,:,:,1])),axis=-1)\n",
    "    \n",
    "    off = flowpy.flow_to_rgb(flow[:,:,:],flow_max_radius=1)\n",
    "    off = cv2.cvtColor(off, cv2.COLOR_RGB2BGR)\n",
    "\n",
    "    cv2.imwrite('/Users/hsinyu/Desktop/airsim2/of{}.png'.format(frame), off)\n",
    "    \n",
    "    frame += 1\n",
    "    # cv2.waitKey(1)"
   ],
   "outputs": [],
   "metadata": {}
  }
 ],
 "metadata": {
  "orig_nbformat": 4,
  "language_info": {
   "name": "python",
   "version": "3.9.7",
   "mimetype": "text/x-python",
   "codemirror_mode": {
    "name": "ipython",
    "version": 3
   },
   "pygments_lexer": "ipython3",
   "nbconvert_exporter": "python",
   "file_extension": ".py"
  },
  "kernelspec": {
   "name": "python3",
   "display_name": "Python 3.9.7 64-bit ('research': venv)"
  },
  "interpreter": {
   "hash": "fff6bf66504bbf63762f297f5ef47576c0cd83d15566647af4095fb63d23ce89"
  }
 },
 "nbformat": 4,
 "nbformat_minor": 2
}